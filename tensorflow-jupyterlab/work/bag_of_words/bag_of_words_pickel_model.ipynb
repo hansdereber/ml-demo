{
 "cells": [
  {
   "cell_type": "code",
   "execution_count": 1,
   "metadata": {},
   "outputs": [],
   "source": [
    "import pandas as pd\n",
    "from joblib import dump, load\n",
    "from sklearn.feature_extraction.text import CountVectorizer\n",
    "from sklearn.naive_bayes import BernoulliNB, MultinomialNB"
   ]
  },
  {
   "cell_type": "code",
   "execution_count": 2,
   "metadata": {},
   "outputs": [
    {
     "data": {
      "text/html": [
       "<div>\n",
       "<style scoped>\n",
       "    .dataframe tbody tr th:only-of-type {\n",
       "        vertical-align: middle;\n",
       "    }\n",
       "\n",
       "    .dataframe tbody tr th {\n",
       "        vertical-align: top;\n",
       "    }\n",
       "\n",
       "    .dataframe thead th {\n",
       "        text-align: right;\n",
       "    }\n",
       "</style>\n",
       "<table border=\"1\" class=\"dataframe\">\n",
       "  <thead>\n",
       "    <tr style=\"text-align: right;\">\n",
       "      <th></th>\n",
       "      <th>name</th>\n",
       "      <th>steps</th>\n",
       "      <th>isVegi</th>\n",
       "    </tr>\n",
       "  </thead>\n",
       "  <tbody>\n",
       "    <tr>\n",
       "      <th>0</th>\n",
       "      <td>arriba   baked winter squash mexican style</td>\n",
       "      <td>make a choice and proceed with recipe, depending on size of squash , cut into half or fourths, remove seeds, for spicy squash , drizzle olive oil or melted butter over each cut squash piece, season with mexican seasoning mix ii, for sweet squash , drizzle melted honey , butter , grated piloncillo over each cut squash piece, season with sweet mexican spice mix, bake at 350 degrees , again depending on size , for 40 minutes up to an hour , until a fork can easily pierce the skin, be careful not to burn the squash especially if you opt to use sugar or butter, if you feel more comfortable , cover the squash with aluminum foil the first half hour , give or take , of baking, if desired , season with salt</td>\n",
       "      <td>True</td>\n",
       "    </tr>\n",
       "    <tr>\n",
       "      <th>1</th>\n",
       "      <td>a bit different  breakfast pizza</td>\n",
       "      <td>preheat oven to 425 degrees f, press dough into the bottom and sides of a 12 inch pizza pan, bake for 5 minutes until set but not browned, cut sausage into small pieces, whisk eggs and milk in a bowl until frothy, spoon sausage over baked crust and sprinkle with cheese, pour egg mixture slowly over sausage and cheese, s&amp; p to taste, bake 15-20 minutes or until eggs are set and crust is brown</td>\n",
       "      <td>False</td>\n",
       "    </tr>\n",
       "    <tr>\n",
       "      <th>2</th>\n",
       "      <td>all in the kitchen  chili</td>\n",
       "      <td>brown ground beef in large pot, add chopped onions to ground beef when almost brown and sautee until wilted, add all other ingredients, add kidney beans if you like beans in your chili, cook in slow cooker on high for 2-3 hours or 6-8 hours on low, serve with cold clean lettuce and shredded cheese</td>\n",
       "      <td>False</td>\n",
       "    </tr>\n",
       "    <tr>\n",
       "      <th>3</th>\n",
       "      <td>alouette  potatoes</td>\n",
       "      <td>place potatoes in a large pot of lightly salted water and bring to a gentle boil, cook until potatoes are just tender, drain, place potatoes in a large bowl and add all ingredients except thealouette, mix well and transfer to a buttered 8x8 inch glass baking dish with 2 inch sides, press the potatoes with a spatula to make top as flat as possible, set aside for 2 hours at room temperature, preheat oven to 350^f, spreadalouette evenly over potatoes and bake 15 minutes, divide between plates, garnish with finely diced red and yellow bell peppers</td>\n",
       "      <td>False</td>\n",
       "    </tr>\n",
       "    <tr>\n",
       "      <th>4</th>\n",
       "      <td>amish  tomato ketchup  for canning</td>\n",
       "      <td>mix all ingredients&amp; boil for 2 1 / 2 hours , or until thick, pour into jars, i useold glass ketchup bottles, it is not necessary for these toseal, my amish mother-in-law has been making this her entire life , and has never used asealed jar for this recipe , and its always been great !</td>\n",
       "      <td>True</td>\n",
       "    </tr>\n",
       "  </tbody>\n",
       "</table>\n",
       "</div>"
      ],
      "text/plain": [
       "                                         name  \\\n",
       "0  arriba   baked winter squash mexican style   \n",
       "1  a bit different  breakfast pizza             \n",
       "2  all in the kitchen  chili                    \n",
       "3  alouette  potatoes                           \n",
       "4  amish  tomato ketchup  for canning           \n",
       "\n",
       "                                                                                                                                                                                                                                                                                                                                                                                                                                                                                                                                                                                                                                                                                                                                 steps  \\\n",
       "0  make a choice and proceed with recipe, depending on size of squash , cut into half or fourths, remove seeds, for spicy squash , drizzle olive oil or melted butter over each cut squash piece, season with mexican seasoning mix ii, for sweet squash , drizzle melted honey , butter , grated piloncillo over each cut squash piece, season with sweet mexican spice mix, bake at 350 degrees , again depending on size , for 40 minutes up to an hour , until a fork can easily pierce the skin, be careful not to burn the squash especially if you opt to use sugar or butter, if you feel more comfortable , cover the squash with aluminum foil the first half hour , give or take , of baking, if desired , season with salt   \n",
       "1  preheat oven to 425 degrees f, press dough into the bottom and sides of a 12 inch pizza pan, bake for 5 minutes until set but not browned, cut sausage into small pieces, whisk eggs and milk in a bowl until frothy, spoon sausage over baked crust and sprinkle with cheese, pour egg mixture slowly over sausage and cheese, s& p to taste, bake 15-20 minutes or until eggs are set and crust is brown                                                                                                                                                                                                                                                                                                                            \n",
       "2  brown ground beef in large pot, add chopped onions to ground beef when almost brown and sautee until wilted, add all other ingredients, add kidney beans if you like beans in your chili, cook in slow cooker on high for 2-3 hours or 6-8 hours on low, serve with cold clean lettuce and shredded cheese                                                                                                                                                                                                                                                                                                                                                                                                                            \n",
       "3  place potatoes in a large pot of lightly salted water and bring to a gentle boil, cook until potatoes are just tender, drain, place potatoes in a large bowl and add all ingredients except thealouette, mix well and transfer to a buttered 8x8 inch glass baking dish with 2 inch sides, press the potatoes with a spatula to make top as flat as possible, set aside for 2 hours at room temperature, preheat oven to 350^f, spreadalouette evenly over potatoes and bake 15 minutes, divide between plates, garnish with finely diced red and yellow bell peppers                                                                                                                                                                 \n",
       "4  mix all ingredients& boil for 2 1 / 2 hours , or until thick, pour into jars, i useold glass ketchup bottles, it is not necessary for these toseal, my amish mother-in-law has been making this her entire life , and has never used asealed jar for this recipe , and its always been great !                                                                                                                                                                                                                                                                                                                                                                                                                                        \n",
       "\n",
       "   isVegi  \n",
       "0  True    \n",
       "1  False   \n",
       "2  False   \n",
       "3  False   \n",
       "4  True    "
      ]
     },
     "execution_count": 2,
     "metadata": {},
     "output_type": "execute_result"
    }
   ],
   "source": [
    "recipies = pd.read_csv('RAW_recipes.csv')\n",
    "recipies['isVegi'] = (recipies['tags'].str.find('vegetarian') > -1)\n",
    "recipies = recipies[['name', 'steps', 'isVegi']]\n",
    "recipies['steps'] = recipies[\"steps\"].str \\\n",
    ".replace(r'([\\[\\]\\'\\\"])', '', regex=True) \\\n",
    ".replace('  ', ' ', regex=False)\n",
    "\n",
    "pd.set_option(\"display.max_colwidth\", -1)\n",
    "recipies.head()"
   ]
  },
  {
   "cell_type": "code",
   "execution_count": 4,
   "metadata": {},
   "outputs": [],
   "source": [
    "vectorizer = CountVectorizer()\n",
    "X = vectorizer.fit_transform(recipies['steps'])\n",
    "dump(vectorizer, 'fitted_vectorizer.joblib')\n",
    "\n",
    "y = recipies['isVegi']"
   ]
  },
  {
   "cell_type": "code",
   "execution_count": 5,
   "metadata": {},
   "outputs": [
    {
     "data": {
      "text/plain": [
       "['fitted_model.joblib']"
      ]
     },
     "execution_count": 5,
     "metadata": {},
     "output_type": "execute_result"
    }
   ],
   "source": [
    "clf = BernoulliNB(alpha=.01).fit(X[:-1000],y[:-1000])\n",
    "dump(clf, 'fitted_model.joblib')"
   ]
  },
  {
   "cell_type": "code",
   "execution_count": 6,
   "metadata": {},
   "outputs": [
    {
     "name": "stdout",
     "output_type": "stream",
     "text": [
      "accuracy:   0.808\n"
     ]
    }
   ],
   "source": [
    "str(clf.predict(vectorizer.transform(['mince meat the cucumber']))[0])\n",
    "\n",
    "from sklearn import metrics\n",
    "\n",
    "pred = clf.predict(X[1000:])\n",
    "score = metrics.accuracy_score(y[1000:], pred)\n",
    "print(\"accuracy:   %0.3f\" % score)"
   ]
  }
 ],
 "metadata": {
  "kernelspec": {
   "display_name": "Python 3",
   "language": "python",
   "name": "python3"
  },
  "language_info": {
   "codemirror_mode": {
    "name": "ipython",
    "version": 3
   },
   "file_extension": ".py",
   "mimetype": "text/x-python",
   "name": "python",
   "nbconvert_exporter": "python",
   "pygments_lexer": "ipython3",
   "version": "3.7.6"
  },
  "pycharm": {
   "stem_cell": {
    "cell_type": "raw",
    "metadata": {
     "collapsed": false
    },
    "source": []
   }
  }
 },
 "nbformat": 4,
 "nbformat_minor": 4
}
