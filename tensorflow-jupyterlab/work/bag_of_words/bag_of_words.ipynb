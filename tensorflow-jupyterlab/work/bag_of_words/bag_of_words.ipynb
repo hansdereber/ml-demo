{
 "cells": [
  {
   "cell_type": "markdown",
   "metadata": {},
   "source": [
    "example for text classification can be found here: https://scikit-learn.org/stable/auto_examples/text/plot_document_classification_20newsgroups.html#sphx-glr-auto-examples-text-plot-document-classification-20newsgroups-py\n",
    "\n",
    "naive bayes guide of sklearn can be found here: https://scikit-learn.org/stable/modules/naive_bayes.html#gaussian-naive-bayes"
   ]
  },
  {
   "cell_type": "code",
   "execution_count": 1,
   "metadata": {},
   "outputs": [
    {
     "data": {
      "text/html": [
       "<div>\n",
       "<style scoped>\n",
       "    .dataframe tbody tr th:only-of-type {\n",
       "        vertical-align: middle;\n",
       "    }\n",
       "\n",
       "    .dataframe tbody tr th {\n",
       "        vertical-align: top;\n",
       "    }\n",
       "\n",
       "    .dataframe thead th {\n",
       "        text-align: right;\n",
       "    }\n",
       "</style>\n",
       "<table border=\"1\" class=\"dataframe\">\n",
       "  <thead>\n",
       "    <tr style=\"text-align: right;\">\n",
       "      <th></th>\n",
       "      <th>name</th>\n",
       "      <th>steps</th>\n",
       "      <th>isVegi</th>\n",
       "    </tr>\n",
       "  </thead>\n",
       "  <tbody>\n",
       "    <tr>\n",
       "      <th>0</th>\n",
       "      <td>arriba   baked winter squash mexican style</td>\n",
       "      <td>make a choice and proceed with recipe, depending on size of squash , cut into half or fourths, remove seeds, for spicy squash , drizzle olive oil or melted butter over each cut squash piece, season with mexican seasoning mix ii, for sweet squash , drizzle melted honey , butter , grated piloncillo over each cut squash piece, season with sweet mexican spice mix, bake at 350 degrees , again depending on size , for 40 minutes up to an hour , until a fork can easily pierce the skin, be careful not to burn the squash especially if you opt to use sugar or butter, if you feel more comfortable , cover the squash with aluminum foil the first half hour , give or take , of baking, if desired , season with salt</td>\n",
       "      <td>True</td>\n",
       "    </tr>\n",
       "    <tr>\n",
       "      <th>1</th>\n",
       "      <td>a bit different  breakfast pizza</td>\n",
       "      <td>preheat oven to 425 degrees f, press dough into the bottom and sides of a 12 inch pizza pan, bake for 5 minutes until set but not browned, cut sausage into small pieces, whisk eggs and milk in a bowl until frothy, spoon sausage over baked crust and sprinkle with cheese, pour egg mixture slowly over sausage and cheese, s&amp; p to taste, bake 15-20 minutes or until eggs are set and crust is brown</td>\n",
       "      <td>False</td>\n",
       "    </tr>\n",
       "    <tr>\n",
       "      <th>2</th>\n",
       "      <td>all in the kitchen  chili</td>\n",
       "      <td>brown ground beef in large pot, add chopped onions to ground beef when almost brown and sautee until wilted, add all other ingredients, add kidney beans if you like beans in your chili, cook in slow cooker on high for 2-3 hours or 6-8 hours on low, serve with cold clean lettuce and shredded cheese</td>\n",
       "      <td>False</td>\n",
       "    </tr>\n",
       "    <tr>\n",
       "      <th>3</th>\n",
       "      <td>alouette  potatoes</td>\n",
       "      <td>place potatoes in a large pot of lightly salted water and bring to a gentle boil, cook until potatoes are just tender, drain, place potatoes in a large bowl and add all ingredients except thealouette, mix well and transfer to a buttered 8x8 inch glass baking dish with 2 inch sides, press the potatoes with a spatula to make top as flat as possible, set aside for 2 hours at room temperature, preheat oven to 350^f, spreadalouette evenly over potatoes and bake 15 minutes, divide between plates, garnish with finely diced red and yellow bell peppers</td>\n",
       "      <td>False</td>\n",
       "    </tr>\n",
       "    <tr>\n",
       "      <th>4</th>\n",
       "      <td>amish  tomato ketchup  for canning</td>\n",
       "      <td>mix all ingredients&amp; boil for 2 1 / 2 hours , or until thick, pour into jars, i useold glass ketchup bottles, it is not necessary for these toseal, my amish mother-in-law has been making this her entire life , and has never used asealed jar for this recipe , and its always been great !</td>\n",
       "      <td>True</td>\n",
       "    </tr>\n",
       "  </tbody>\n",
       "</table>\n",
       "</div>"
      ],
      "text/plain": [
       "                                         name  \\\n",
       "0  arriba   baked winter squash mexican style   \n",
       "1  a bit different  breakfast pizza             \n",
       "2  all in the kitchen  chili                    \n",
       "3  alouette  potatoes                           \n",
       "4  amish  tomato ketchup  for canning           \n",
       "\n",
       "                                                                                                                                                                                                                                                                                                                                                                                                                                                                                                                                                                                                                                                                                                                                 steps  \\\n",
       "0  make a choice and proceed with recipe, depending on size of squash , cut into half or fourths, remove seeds, for spicy squash , drizzle olive oil or melted butter over each cut squash piece, season with mexican seasoning mix ii, for sweet squash , drizzle melted honey , butter , grated piloncillo over each cut squash piece, season with sweet mexican spice mix, bake at 350 degrees , again depending on size , for 40 minutes up to an hour , until a fork can easily pierce the skin, be careful not to burn the squash especially if you opt to use sugar or butter, if you feel more comfortable , cover the squash with aluminum foil the first half hour , give or take , of baking, if desired , season with salt   \n",
       "1  preheat oven to 425 degrees f, press dough into the bottom and sides of a 12 inch pizza pan, bake for 5 minutes until set but not browned, cut sausage into small pieces, whisk eggs and milk in a bowl until frothy, spoon sausage over baked crust and sprinkle with cheese, pour egg mixture slowly over sausage and cheese, s& p to taste, bake 15-20 minutes or until eggs are set and crust is brown                                                                                                                                                                                                                                                                                                                            \n",
       "2  brown ground beef in large pot, add chopped onions to ground beef when almost brown and sautee until wilted, add all other ingredients, add kidney beans if you like beans in your chili, cook in slow cooker on high for 2-3 hours or 6-8 hours on low, serve with cold clean lettuce and shredded cheese                                                                                                                                                                                                                                                                                                                                                                                                                            \n",
       "3  place potatoes in a large pot of lightly salted water and bring to a gentle boil, cook until potatoes are just tender, drain, place potatoes in a large bowl and add all ingredients except thealouette, mix well and transfer to a buttered 8x8 inch glass baking dish with 2 inch sides, press the potatoes with a spatula to make top as flat as possible, set aside for 2 hours at room temperature, preheat oven to 350^f, spreadalouette evenly over potatoes and bake 15 minutes, divide between plates, garnish with finely diced red and yellow bell peppers                                                                                                                                                                 \n",
       "4  mix all ingredients& boil for 2 1 / 2 hours , or until thick, pour into jars, i useold glass ketchup bottles, it is not necessary for these toseal, my amish mother-in-law has been making this her entire life , and has never used asealed jar for this recipe , and its always been great !                                                                                                                                                                                                                                                                                                                                                                                                                                        \n",
       "\n",
       "   isVegi  \n",
       "0  True    \n",
       "1  False   \n",
       "2  False   \n",
       "3  False   \n",
       "4  True    "
      ]
     },
     "execution_count": 1,
     "metadata": {},
     "output_type": "execute_result"
    }
   ],
   "source": [
    "import pandas as pd\n",
    "\n",
    "recipies = pd.read_csv('RAW_recipes.csv')\n",
    "recipies['isVegi'] = (recipies['tags'].str.find('vegetarian') > -1)\n",
    "recipies = recipies[['name', 'steps', 'isVegi']]\n",
    "recipies['steps'] = recipies[\"steps\"].str \\\n",
    ".replace(r'([\\[\\]\\'\\\"])', '', regex=True) \\\n",
    ".replace('  ', ' ', regex=False)\n",
    "\n",
    "pd.set_option(\"display.max_colwidth\", -1)\n",
    "recipies.head()"
   ]
  },
  {
   "cell_type": "code",
   "execution_count": 2,
   "metadata": {},
   "outputs": [
    {
     "data": {
      "text/plain": [
       "CountVectorizer(analyzer='word', binary=False, decode_error='strict',\n",
       "                dtype=<class 'numpy.int64'>, encoding='utf-8', input='content',\n",
       "                lowercase=True, max_df=1.0, max_features=None, min_df=1,\n",
       "                ngram_range=(1, 1), preprocessor=None, stop_words=None,\n",
       "                strip_accents=None, token_pattern='(?u)\\\\b\\\\w\\\\w+\\\\b',\n",
       "                tokenizer=None, vocabulary=None)"
      ]
     },
     "execution_count": 2,
     "metadata": {},
     "output_type": "execute_result"
    }
   ],
   "source": [
    "from sklearn.feature_extraction.text import CountVectorizer\n",
    "\n",
    "vectorizer = CountVectorizer()\n",
    "vectorizer"
   ]
  },
  {
   "cell_type": "code",
   "execution_count": 3,
   "metadata": {},
   "outputs": [],
   "source": [
    "X = vectorizer.fit_transform(recipies['steps'])"
   ]
  },
  {
   "cell_type": "code",
   "execution_count": 4,
   "metadata": {},
   "outputs": [
    {
     "data": {
      "text/plain": [
       "0    True \n",
       "1    False\n",
       "2    False\n",
       "3    False\n",
       "4    True \n",
       "Name: isVegi, dtype: bool"
      ]
     },
     "execution_count": 4,
     "metadata": {},
     "output_type": "execute_result"
    }
   ],
   "source": [
    "y = recipies['isVegi']\n",
    "y.head()"
   ]
  },
  {
   "cell_type": "code",
   "execution_count": 43,
   "metadata": {},
   "outputs": [],
   "source": [
    "from sklearn.naive_bayes import BernoulliNB, MultinomialNB, ComplementNB\n",
    "clf1 = MultinomialNB(alpha=.01).fit(X,y)\n",
    "clf2 = BernoulliNB(alpha=.01).fit(X,y)\n",
    "clf3 = ComplementNB(alpha=0.1).fit(X,y)"
   ]
  },
  {
   "cell_type": "code",
   "execution_count": 44,
   "metadata": {},
   "outputs": [
    {
     "data": {
      "text/plain": [
       "array([False])"
      ]
     },
     "execution_count": 44,
     "metadata": {},
     "output_type": "execute_result"
    }
   ],
   "source": [
    "test_x = vectorizer.transform(['bake trout until crispy tofu']).toarray()\n",
    "pred = clf.predict(test_x)\n",
    "pred[0:10]"
   ]
  },
  {
   "cell_type": "code",
   "execution_count": 82,
   "metadata": {},
   "outputs": [
    {
     "name": "stdout",
     "output_type": "stream",
     "text": [
      "accuracy:   0.819\n",
      "accuracy:   0.809\n",
      "accuracy:   0.758\n",
      "accuracy:   0.796\n"
     ]
    }
   ],
   "source": [
    "from sklearn import metrics\n",
    "\n",
    "pred1 = clf1.predict(X[1000:])\n",
    "score1 = metrics.accuracy_score(y[1000:], pred1)\n",
    "print(\"accuracy:   %0.3f\" % score1)\n",
    "pred2 = clf2.predict(X[1000:])\n",
    "score2 = metrics.accuracy_score(y[1000:], pred2)\n",
    "print(\"accuracy:   %0.3f\" % score2)\n",
    "pred3 = clf3.predict(X[1000:])\n",
    "score3 = metrics.accuracy_score(y[1000:], pred3)\n",
    "print(\"accuracy:   %0.3f\" % score3)\n",
    "pred4 = list(map(lambda x: x.count(True) > 1 , list(zip(pred1, pred2, pred3))))\n",
    "score4 = metrics.accuracy_score(y[1000:], pred4)\n",
    "print(\"accuracy:   %0.3f\" % score4)"
   ]
  },
  {
   "cell_type": "code",
   "execution_count": 46,
   "metadata": {},
   "outputs": [
    {
     "data": {
      "text/plain": [
       "['atime',\n",
       " 'atjar',\n",
       " 'atjars',\n",
       " 'atkins',\n",
       " 'atlantic',\n",
       " 'atlas',\n",
       " 'atleast',\n",
       " 'atmosphere',\n",
       " 'atmospheric',\n",
       " 'ato']"
      ]
     },
     "execution_count": 46,
     "metadata": {},
     "output_type": "execute_result"
    }
   ],
   "source": [
    "vectorizer.get_feature_names()[5000:5010]"
   ]
  },
  {
   "cell_type": "code",
   "execution_count": 58,
   "metadata": {},
   "outputs": [
    {
     "data": {
      "text/plain": [
       "array([ True, False, False, ..., False, False, False])"
      ]
     },
     "execution_count": 58,
     "metadata": {},
     "output_type": "execute_result"
    }
   ],
   "source": [
    "pred1"
   ]
  },
  {
   "cell_type": "code",
   "execution_count": 81,
   "metadata": {},
   "outputs": [
    {
     "data": {
      "text/plain": [
       "[False, True, True]"
      ]
     },
     "execution_count": 81,
     "metadata": {},
     "output_type": "execute_result"
    }
   ],
   "source": [
    "import numpy as np\n",
    "t1 = np.array([True, False, True], dtype=bool)\n",
    "t2 = np.array([False, True, False], dtype=bool)\n",
    "t3 = np.array([False, True, True], dtype=bool)\n",
    "\n",
    "list(map(lambda x: x.count(True) > 1 , list(zip(t1, t2, t3))))"
   ]
  },
  {
   "cell_type": "code",
   "execution_count": 78,
   "metadata": {},
   "outputs": [
    {
     "data": {
      "text/plain": [
       "[True, False, True]"
      ]
     },
     "execution_count": 78,
     "metadata": {},
     "output_type": "execute_result"
    }
   ],
   "source": []
  }
 ],
 "metadata": {
  "kernelspec": {
   "display_name": "Python 3",
   "language": "python",
   "name": "python3"
  },
  "language_info": {
   "codemirror_mode": {
    "name": "ipython",
    "version": 3
   },
   "file_extension": ".py",
   "mimetype": "text/x-python",
   "name": "python",
   "nbconvert_exporter": "python",
   "pygments_lexer": "ipython3",
   "version": "3.7.6"
  }
 },
 "nbformat": 4,
 "nbformat_minor": 4
}
