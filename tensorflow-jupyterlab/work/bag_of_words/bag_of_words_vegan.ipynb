{
 "cells": [
  {
   "cell_type": "code",
   "execution_count": null,
   "metadata": {},
   "outputs": [],
   "source": [
    "import pandas as pd\n",
    "\n",
    "recipies = pd.read_csv('RAW_recipes.csv')\n",
    "recipies['isVegi'] = (recipies['tags'].str.find('vegetarian') > -1)\n",
    "recipies = recipies[['name', 'steps', 'isVegi']]\n",
    "recipies['steps'] = recipies[\"steps\"].str \\\n",
    ".replace(r'([\\[\\]\\'\\\"])', '', regex=True) \\\n",
    ".replace('  ', ' ', regex=False)\n",
    "\n",
    "pd.set_option(\"display.max_colwidth\", -1)\n",
    "recipies.head()"
   ]
  },
  {
   "cell_type": "code",
   "execution_count": 4,
   "metadata": {},
   "outputs": [
    {
     "data": {
      "text/plain": [
       "0         make a choice and proceed with recipe, depending on size of squash , cut into half or fourths, remove seeds, for spicy squash , drizzle olive oil or melted butter over each cut squash piece, season with mexican seasoning mix ii, for sweet squash , drizzle melted honey , butter , grated piloncillo over each cut squash piece, season with sweet mexican spice mix, bake at 350 degrees , again depending on size , for 40 minutes up to an hour , until a fork can easily pierce the skin, be careful not to burn the squash especially if you opt to use sugar or butter, if you feel more comfortable , cover the squash with aluminum foil the first half hour , give or take , of baking, if desired , season with salt                                                                                                                                                                                                                    \n",
       "1         preheat oven to 425 degrees f, press dough into the bottom and sides of a 12 inch pizza pan, bake for 5 minutes until set but not browned, cut sausage into small pieces, whisk eggs and milk in a bowl until frothy, spoon sausage over baked crust and sprinkle with cheese, pour egg mixture slowly over sausage and cheese, s& p to taste, bake 15-20 minutes or until eggs are set and crust is brown                                                                                                                                                                                                                                                                                                                                                                                                                                                                                                                                             \n",
       "2         brown ground beef in large pot, add chopped onions to ground beef when almost brown and sautee until wilted, add all other ingredients, add kidney beans if you like beans in your chili, cook in slow cooker on high for 2-3 hours or 6-8 hours on low, serve with cold clean lettuce and shredded cheese                                                                                                                                                                                                                                                                                                                                                                                                                                                                                                                                                                                                                                             \n",
       "3         place potatoes in a large pot of lightly salted water and bring to a gentle boil, cook until potatoes are just tender, drain, place potatoes in a large bowl and add all ingredients except thealouette, mix well and transfer to a buttered 8x8 inch glass baking dish with 2 inch sides, press the potatoes with a spatula to make top as flat as possible, set aside for 2 hours at room temperature, preheat oven to 350^f, spreadalouette evenly over potatoes and bake 15 minutes, divide between plates, garnish with finely diced red and yellow bell peppers                                                                                                                                                                                                                                                                                                                                                                                  \n",
       "4         mix all ingredients& boil for 2 1 / 2 hours , or until thick, pour into jars, i useold glass ketchup bottles, it is not necessary for these toseal, my amish mother-in-law has been making this her entire life , and has never used asealed jar for this recipe , and its always been great !                                                                                                                                                                                                                                                                                                                                                                                                                                                                                                                                                                                                                                                         \n",
       "                                                                                                                                                       ...                                                                                                                                                                                                                                                                                                                                                                                                                                                                                                                                                                                                                                                                                                                                                                                                       \n",
       "230632    moussaka:, brush potato , eggplant and zucchini slices with olive oil and grill until soft, set aside, saute onion in 2 tablespoons of olive oil until soft, stir in garbanzo beans , tomato sauce , salt , pepper , cinnamon and nutmet to taste, and heat through, preheat oven to 375 degrees f, grease a 9 by 13-inch baking pan, layer potatoes in prepared pan and sprinkle with bread crumbs, spoon on a layer of tomato sauce, add a layer of eggplant , then a layer of tomato sauce, add a layer of zucchini slices , then remaining tomato sauce, spread top with bechamel sauce, sprinkle with parmesan, bake until top is firm and lightly browned ,, about 1 hour, serve hot, bechamel sauce:, mix flour with cinnamon and nutmeg to taste, melt butter in saucepan, stir in flour mixture and cook 2 to 3 minutes, add milk and cook stirring , until thickened, stir in cheese and keep warm until ready to use                        \n",
       "230633    make the brown bean sauce by combining the ingredients and mixing them well, heat a wok over a high heat and once it is hot , add the oil and the white part of the onions and the garlic, stir-fry for 20 seconds , add the pork and cook it until it turns white and begins to separate, add the brown sauce, reduce the heat to medium and simmer for 5-10 minutes, add another cup of stock if you prefer a thinner consistency, season , to taste , with sea salt , freshly ground black pepper and sugar, meanwhile , cook the noodles in boiling water for 3-4 minutes, drain , rinse off excess starch , if necessary , and add the noodles to the wok with the remaining green onion and toss the noodles and green onion through the mince mixture, serve topped with the cucumber, to prevent them sticking together after cooking , add a splash of oil and toss through, this is particularly useful if you are cooking them ahead of time\n",
       "230634    mix well , serve in tea cups                                                                                                                                                                                                                                                                                                                                                                                                                                                                                                                                                                                                                                                                                                                                                                                                                                                                                                                           \n",
       "230635    peel the onion , cut it in half and thinly slice it, pour the water over the dried mushrooms to rehydrate , let sit 5 minutes, peel potatoes and julienne, pour the mushroom mix through a fine coffee filter and sieve reserving the broth, clean mushrooms under cold water to get rid of any grit, add 1 tbs oil to a non stick skillet , add onion and cook over medium for 3 minutes, add dry mushrooms and cook for 10 to 15 minutes until golden, add minced garlic to skillet , then add potatoes and mushroom broth , cover with lid and cook 8 - 10 minutes until liquid is absorbed and potatoes are soft, uncover potatoes and increase heat to medium high , cook another 5 minutes until they are golden , adding more oil if needed                                                                                                                                                                                                     \n",
       "230636    peel potatoes , wash , cut into cubes and fry in butter until light golden, slice onion , carrot , and roots , fry in butter until golden, cube beef and fry in butter until light brown, in a ceramic pot , put beef , potatoes , onion , carrot , roots , garlic , season with salt and pepper and pour in the broth, cook in the oven for 30 minutes at 350 , or crockpot for 4 hours on low, 10 minutes before done , add sour cream and sprinkle with green, serve zharkoye with salad from fresh vegetables , pickles , sauerkraut and greens                                                                                                                                                                                                                                                                                                                                                                                                    \n",
       "Name: steps, Length: 230637, dtype: object"
      ]
     },
     "execution_count": 4,
     "metadata": {},
     "output_type": "execute_result"
    }
   ],
   "source": [
    "recipies['steps'][0:-1000]"
   ]
  },
  {
   "cell_type": "code",
   "execution_count": 5,
   "metadata": {},
   "outputs": [
    {
     "data": {
      "text/plain": [
       "CountVectorizer(analyzer='word', binary=False, decode_error='strict',\n",
       "                dtype=<class 'numpy.int64'>, encoding='utf-8', input='content',\n",
       "                lowercase=True, max_df=1.0, max_features=None, min_df=1,\n",
       "                ngram_range=(1, 1), preprocessor=None, stop_words=None,\n",
       "                strip_accents=None, token_pattern='(?u)\\\\b\\\\w\\\\w+\\\\b',\n",
       "                tokenizer=None, vocabulary=None)"
      ]
     },
     "execution_count": 5,
     "metadata": {},
     "output_type": "execute_result"
    }
   ],
   "source": [
    "from sklearn.feature_extraction.text import CountVectorizer\n",
    "\n",
    "vectorizer = CountVectorizer()\n",
    "vectorizer"
   ]
  },
  {
   "cell_type": "code",
   "execution_count": 6,
   "metadata": {},
   "outputs": [],
   "source": [
    "X = vectorizer.fit_transform(recipies['steps'])"
   ]
  },
  {
   "cell_type": "code",
   "execution_count": 7,
   "metadata": {},
   "outputs": [
    {
     "data": {
      "text/plain": [
       "0    True \n",
       "1    False\n",
       "2    False\n",
       "3    False\n",
       "4    True \n",
       "Name: isVegi, dtype: bool"
      ]
     },
     "execution_count": 7,
     "metadata": {},
     "output_type": "execute_result"
    }
   ],
   "source": [
    "y = recipies['isVegi']\n",
    "y.head()"
   ]
  },
  {
   "cell_type": "code",
   "execution_count": 14,
   "metadata": {},
   "outputs": [],
   "source": [
    "from sklearn.naive_bayes import BernoulliNB, MultinomialNB\n",
    "#clf = MultinomialNB(alpha=.01).fit(X,y)\n",
    "clf = BernoulliNB(alpha=.01).fit(X[:-1000],y[:-1000])"
   ]
  },
  {
   "cell_type": "code",
   "execution_count": null,
   "metadata": {},
   "outputs": [],
   "source": [
    "from joblib import dump, load\n",
    "dump(clf, 'fitted_model.joblib')"
   ]
  },
  {
   "cell_type": "code",
   "execution_count": 12,
   "metadata": {},
   "outputs": [
    {
     "data": {
      "text/plain": [
       "'False'"
      ]
     },
     "execution_count": 12,
     "metadata": {},
     "output_type": "execute_result"
    }
   ],
   "source": [
    "str(clf.predict(vectorizer.transform(['mince meat the cucumber']))[0])"
   ]
  },
  {
   "cell_type": "code",
   "execution_count": 39,
   "metadata": {},
   "outputs": [
    {
     "name": "stdout",
     "output_type": "stream",
     "text": [
      "accuracy:   0.819\n"
     ]
    }
   ],
   "source": [
    "from sklearn import metrics\n",
    "\n",
    "pred = clf.predict(X[1000:])\n",
    "score = metrics.accuracy_score(y[1000:], pred)\n",
    "print(\"accuracy:   %0.3f\" % score)"
   ]
  }
 ],
 "metadata": {
  "kernelspec": {
   "display_name": "Python 3",
   "language": "python",
   "name": "python3"
  },
  "language_info": {
   "codemirror_mode": {
    "name": "ipython",
    "version": 3
   },
   "file_extension": ".py",
   "mimetype": "text/x-python",
   "name": "python",
   "nbconvert_exporter": "python",
   "pygments_lexer": "ipython3",
   "version": "3.7.6"
  },
  "pycharm": {
   "stem_cell": {
    "cell_type": "raw",
    "source": [],
    "metadata": {
     "collapsed": false
    }
   }
  }
 },
 "nbformat": 4,
 "nbformat_minor": 4
}
