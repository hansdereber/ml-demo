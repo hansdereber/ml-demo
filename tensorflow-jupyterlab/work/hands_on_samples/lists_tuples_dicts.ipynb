{
 "cells": [
  {
   "cell_type": "code",
   "execution_count": 2,
   "metadata": {},
   "outputs": [
    {
     "name": "stdout",
     "output_type": "stream",
     "text": [
      "[1, 2, 3, 4, 5, 6]\n"
     ]
    }
   ],
   "source": [
    "x = [1, 2, 3, 4, 5, 6]\n",
    "print(x)"
   ]
  },
  {
   "cell_type": "code",
   "execution_count": 4,
   "metadata": {},
   "outputs": [
    {
     "name": "stdout",
     "output_type": "stream",
     "text": [
      "[1, 2]\n"
     ]
    }
   ],
   "source": [
    "print(x[:2])"
   ]
  },
  {
   "cell_type": "code",
   "execution_count": 5,
   "metadata": {},
   "outputs": [
    {
     "name": "stdout",
     "output_type": "stream",
     "text": [
      "[4, 5, 6]\n"
     ]
    }
   ],
   "source": [
    "print(x[3:])"
   ]
  },
  {
   "cell_type": "code",
   "execution_count": 8,
   "metadata": {},
   "outputs": [],
   "source": [
    "def firstn(n):\n",
    "    i = 0\n",
    "    while i<n:\n",
    "        yield i\n",
    "        i = i + 1"
   ]
  },
  {
   "cell_type": "code",
   "execution_count": 12,
   "metadata": {},
   "outputs": [],
   "source": [
    "list = [\"banana \" + str(e) for e in firstn(10)]"
   ]
  },
  {
   "cell_type": "code",
   "execution_count": 14,
   "metadata": {},
   "outputs": [
    {
     "name": "stdout",
     "output_type": "stream",
     "text": [
      "['banana 0', 'banana 1', 'banana 2', 'banana 3', 'banana 4', 'banana 5', 'banana 6', 'banana 7', 'banana 8', 'banana 9']\n"
     ]
    }
   ],
   "source": [
    "print(list)"
   ]
  },
  {
   "cell_type": "code",
   "execution_count": 18,
   "metadata": {},
   "outputs": [
    {
     "name": "stdout",
     "output_type": "stream",
     "text": [
      "banana 8\n"
     ]
    }
   ],
   "source": [
    "print(list[-2])"
   ]
  },
  {
   "cell_type": "code",
   "execution_count": 20,
   "metadata": {},
   "outputs": [
    {
     "name": "stdout",
     "output_type": "stream",
     "text": [
      "['banana 0', 'banana 1', 'banana 2', 'banana 3', 'banana 4', 'banana 5', 'banana 6', 'banana 7', 'banana 8', 'banana 9', 'banana 0', 'banana 1', 'banana 2', 'banana 3', 'banana 4', 'banana 5', 'banana 6', 'banana 7', 'banana 8', 'banana 9', 'banana 0', 'banana 1', 'banana 2', 'banana 3', 'banana 4', 'banana 5', 'banana 6', 'banana 7', 'banana 8', 'banana 9', 'banana 0', 'banana 1', 'banana 2', 'banana 3', 'banana 4', 'banana 5', 'banana 6', 'banana 7', 'banana 8', 'banana 9']\n"
     ]
    }
   ],
   "source": [
    "list.extend(list)\n",
    "print(list)"
   ]
  },
  {
   "cell_type": "code",
   "execution_count": 22,
   "metadata": {},
   "outputs": [
    {
     "name": "stdout",
     "output_type": "stream",
     "text": [
      "[['banana 0', 'banana 1', 'banana 2', 'banana 3', 'banana 4', 'banana 5', 'banana 6', 'banana 7', 'banana 8', 'banana 9', 'banana 0', 'banana 1', 'banana 2', 'banana 3', 'banana 4', 'banana 5', 'banana 6', 'banana 7', 'banana 8', 'banana 9', 'banana 0', 'banana 1', 'banana 2', 'banana 3', 'banana 4', 'banana 5', 'banana 6', 'banana 7', 'banana 8', 'banana 9', 'banana 0', 'banana 1', 'banana 2', 'banana 3', 'banana 4', 'banana 5', 'banana 6', 'banana 7', 'banana 8', 'banana 9'], ['banana 0', 'banana 1', 'banana 2', 'banana 3', 'banana 4', 'banana 5', 'banana 6', 'banana 7', 'banana 8', 'banana 9', 'banana 0', 'banana 1', 'banana 2', 'banana 3', 'banana 4', 'banana 5', 'banana 6', 'banana 7', 'banana 8', 'banana 9', 'banana 0', 'banana 1', 'banana 2', 'banana 3', 'banana 4', 'banana 5', 'banana 6', 'banana 7', 'banana 8', 'banana 9', 'banana 0', 'banana 1', 'banana 2', 'banana 3', 'banana 4', 'banana 5', 'banana 6', 'banana 7', 'banana 8', 'banana 9']]\n"
     ]
    }
   ],
   "source": [
    "listOfLists = [list, list]\n",
    "print(listOfLists)"
   ]
  },
  {
   "cell_type": "code",
   "execution_count": 34,
   "metadata": {},
   "outputs": [
    {
     "name": "stdout",
     "output_type": "stream",
     "text": [
      "[1, 42, 233]\n",
      "(1, 233, 42)\n"
     ]
    }
   ],
   "source": [
    "tuple = (1, 233, 42)\n",
    "print(sorted(tuple))\n",
    "print(tuple)"
   ]
  },
  {
   "cell_type": "code",
   "execution_count": 35,
   "metadata": {},
   "outputs": [
    {
     "name": "stdout",
     "output_type": "stream",
     "text": [
      "32\n",
      "120000\n"
     ]
    }
   ],
   "source": [
    "(age, income) = \"32,120000\".split(',')\n",
    "print (age)\n",
    "print (income)"
   ]
  },
  {
   "cell_type": "code",
   "execution_count": 36,
   "metadata": {},
   "outputs": [
    {
     "data": {
      "text/plain": [
       "[0, 2, 4, 6, 8]"
      ]
     },
     "execution_count": 36,
     "metadata": {},
     "output_type": "execute_result"
    }
   ],
   "source": [
    "[e for e in firstn(10) if e%2==0]"
   ]
  }
 ],
 "metadata": {
  "kernelspec": {
   "display_name": "Python 3",
   "language": "python",
   "name": "python3"
  },
  "language_info": {
   "codemirror_mode": {
    "name": "ipython",
    "version": 3
   },
   "file_extension": ".py",
   "mimetype": "text/x-python",
   "name": "python",
   "nbconvert_exporter": "python",
   "pygments_lexer": "ipython3",
   "version": "3.7.6"
  }
 },
 "nbformat": 4,
 "nbformat_minor": 4
}
